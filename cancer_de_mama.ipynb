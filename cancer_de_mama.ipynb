{
  "nbformat": 4,
  "nbformat_minor": 0,
  "metadata": {
    "colab": {
      "provenance": [],
      "include_colab_link": true
    },
    "kernelspec": {
      "name": "python3",
      "display_name": "Python 3"
    },
    "language_info": {
      "name": "python"
    }
  },
  "cells": [
    {
      "cell_type": "markdown",
      "metadata": {
        "id": "view-in-github",
        "colab_type": "text"
      },
      "source": [
        "<a href=\"https://colab.research.google.com/github/JP-Barbaresco/Estudos-Basicos-CPP/blob/main/cancer_de_mama.ipynb\" target=\"_parent\"><img src=\"https://colab.research.google.com/assets/colab-badge.svg\" alt=\"Open In Colab\"/></a>"
      ]
    },
    {
      "cell_type": "code",
      "execution_count": null,
      "metadata": {
        "id": "zMUNtdfDGdN7"
      },
      "outputs": [],
      "source": [
        "from PIL import Image, ImageDraw, ImageEnhance\n",
        "from skimage import measure\n",
        "import numpy as np\n",
        "import cv2\n",
        "\n",
        "# Abrir imagem\n",
        "imagem = Image.open('/content/mama_tomografia.png')\n",
        "\n",
        "# Converter a imagem em escala de cinza\n",
        "imagem_cinza = imagem.convert('L')\n",
        "\n",
        "# Converter a imagem em uma matriz numpy\n",
        "matriz_imagem = np.array(imagem_cinza)\n",
        "\n",
        "# Detectar os contornos\n",
        "contornos = measure.find_contours(matriz_imagem, 0.8)\n",
        "\n",
        "# Desenhar os contornos na imagem original\n",
        "desenhar = ImageDraw.Draw(imagem)\n",
        "for contorno in contornos:\n",
        "    for i in range(len(contorno) - 1):\n",
        "        desenhar.line((contorno[i][1], contorno[i][0], contorno[i+1][1], contorno[i+1][0]), fill='red', width=2)\n",
        "\n",
        "# Aumentar o contraste\n",
        "realcar = ImageEnhance.Contrast(imagem)\n",
        "imagem_realce = realcar.enhance(5.5)\n",
        "\n",
        "# Mostrar a imagem com os contornos\n",
        "imagem_realce.save('/content/mama_contornos.png')\n",
        "imagem_realce.show()"
      ]
    },
    {
      "cell_type": "code",
      "source": [
        "import cv2\n",
        "import numpy as np\n",
        "img = cv2.imread('/content/mama_contornos.png')\n",
        "\n",
        "numero_pixels_braco = np.sum(img == 255)\n",
        "numero_pixels_preto = np.sum(img == 0)\n",
        "\n",
        "print(f\"Número de pixels brancos: {numero_pixels_braco}\")\n",
        "print(f\"Número de pixels pretos: {numero_pixels_preto}\")\n",
        "\n",
        "percentual_pixels_brancos = (numero_pixels_braco / (numero_pixels_braco + numero_pixels_preto)) * 100\n",
        "\n",
        "print('Percentual pixels brancos:', percentual_pixels_brancos)\n",
        "\n",
        "if (percentual_pixels_brancos >= 30):\n",
        "  print('Mama com câncer')\n",
        "else:\n",
        "  print('Mama sem câncer')"
      ],
      "metadata": {
        "colab": {
          "base_uri": "https://localhost:8080/"
        },
        "id": "pp7Wk5VSkTR1",
        "outputId": "adda9a90-ce40-48a1-f8e1-0d53fce18b7a"
      },
      "execution_count": null,
      "outputs": [
        {
          "output_type": "stream",
          "name": "stdout",
          "text": [
            "Número de pixels brancos: 393519\n",
            "Número de pixels pretos: 1198814\n",
            "Percentual pixels brancos: 24.713360835955793\n",
            "Mama sem câncer\n"
          ]
        }
      ]
    },
    {
      "cell_type": "code",
      "source": [
        "import cv2\n",
        "from google.colab.patches import cv2_imshow\n",
        "import numpy as np\n",
        "\n",
        "img = cv2.imread('/content/mama_tomografia.png')\n",
        "\n",
        "gray_image = cv2.cvtColor(img, cv2.COLOR_BGR2GRAY)\n",
        "\n",
        "_, thresh_image = cv2.threshold(gray_image, 70, 255, cv2.THRESH_BINARY)\n",
        "\n",
        "cv2_imshow(thresh_image)"
      ],
      "metadata": {
        "colab": {
          "base_uri": "https://localhost:8080/",
          "height": 700
        },
        "id": "L5lHldrFN0HE",
        "outputId": "2a8322f0-9eaf-4a32-936c-790817936b16"
      },
      "execution_count": null,
      "outputs": [
        {
          "output_type": "display_data",
          "data": {
            "text/plain": [
              "<PIL.Image.Image image mode=L size=960x720>"
            ],
            "image/png": "[encoded data removed]"
          },
          "metadata": {}
        }
      ]
    }
  ]
}